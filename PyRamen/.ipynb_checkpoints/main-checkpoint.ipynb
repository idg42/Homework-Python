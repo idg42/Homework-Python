{
 "cells": [
  {
   "cell_type": "code",
   "execution_count": 2,
   "metadata": {},
   "outputs": [],
   "source": [
    "# -*- coding: UTF-8 -*-\n",
    "# Ian Davies\n",
    "# Following Python script reads data from budget_data.csv file and outputs a report file.\n",
    "# Report an analyises of the records to calculate each of the following:\n",
    "#    The total number of months included in the dataset.\n",
    "#    The net total amount of Profit/Losses over the entire period.\n",
    "#    The average of the changes in Profit/Losses over the entire period.\n",
    "#    The greatest increase in profits (date and amount) over the entire period.\n",
    "#    The greatest decrease in losses (date and amount) over the entire period.\n",
    "#\n",
    "# Source File - /Resources/budget_data.csv\n",
    "# Report File - /Reports/report.txt\n",
    "\"\"\"PyBank Homework Starter.\"\"\"\n",
    "\n",
    "# @TODO: Import libraries\n",
    "from pathlib import Path\n",
    "import csv\n",
    "\n",
    "# @TODO: Set the path for source and output files\n",
    "csv_path = Path(\"Resources/budget_data.csv\")\n",
    "output_path = Path(\"Reports/report.txt\")\n",
    "\n",
    "# @TODO: Initialize the total variables\n",
    "total = 0\n",
    "month_count = 0\n",
    "net_change = 0\n",
    "prior_change = 0\n",
    "\n",
    "# @TODO: Initialize the change variables\n",
    "changes= {} # dict for net changes\n",
    "profit = 0\n",
    "p_year =''\n",
    "loss = 0\n",
    "l_year=''\n",
    "change_total = 0\n",
    "average = 0\n",
    "\n",
    "underline = \"-\"*45 #Report title underline\n",
    "\n",
    "# @TODO: Open the csv file as an object\n",
    "with open(csv_path, 'r') as csvfile:\n",
    "           \n",
    "    # @TODO: Pass in the csv file to the csv.reader() function\n",
    "    # (with ',' as the delmiter/separator) and return the csvreader object\n",
    "    \n",
    "    csvreader = csv.reader(csvfile, delimiter=',')\n",
    "   \n",
    "    # @TODO: skip header row\n",
    "    next(csvreader)\n",
    "           \n",
    "    # @TODO: Read each row of data after the header\n",
    "    for row in csvreader:\n",
    "\n",
    "        # @TODO: Logic to determine change amount and add to change dict - month and value\n",
    "        total += int(row[1])\n",
    "        month_count += 1\n",
    "        net_change = int(row[1]) - prior_change\n",
    "        prior_change = int(row[1])\n",
    "        changes[row[0]] = net_change"
   ]
  },
  {
   "cell_type": "code",
   "execution_count": 3,
   "metadata": {},
   "outputs": [
    {
     "data": {
      "text/plain": [
       "867884"
      ]
     },
     "execution_count": 3,
     "metadata": {},
     "output_type": "execute_result"
    }
   ],
   "source": [
    "# @TODO: Remove first month from dict - not required in calculation \n",
    "changes.pop(\"Jan-2010\")"
   ]
  },
  {
   "cell_type": "code",
   "execution_count": 4,
   "metadata": {},
   "outputs": [],
   "source": [
    "# @TODO: Logic to determine min and max change month\n",
    "for key, value in changes.items():\n",
    "    change_total += value\n",
    "    if loss == 0:\n",
    "        loss = value\n",
    "        l_year = key\n",
    "    elif value < loss:\n",
    "        loss = value\n",
    "        l_year = key\n",
    "    elif value > profit:\n",
    "        profit = value\n",
    "        p_year = key"
   ]
  },
  {
   "cell_type": "code",
   "execution_count": 5,
   "metadata": {},
   "outputs": [
    {
     "name": "stdout",
     "output_type": "stream",
     "text": [
      "Financial Analysis\n",
      "---------------------------------------------\n",
      "Total Months: 86\n",
      "Total: $38382578\n",
      "Average Change: $-2315.12\n",
      "Greatest Increase in Profits: Feb-2012 ($1926159)\n",
      "Greatest Decrease in Profits: Sep-2013 ($-2196167)\n"
     ]
    }
   ],
   "source": [
    "# @TODO: Calculate average of changes         \n",
    "average = round(change_total/len(changes),2)\n",
    "\n",
    "# @TODO: Print number of months, total, average, greatest profit and loss to screen\n",
    "print(\"Financial Analysis\")\n",
    "print(f\"{underline}\")\n",
    "print(f\"Total Months: {month_count}\")\n",
    "print(f\"Total: ${total}\")\n",
    "print(f\"Average Change: ${average}\")\n",
    "print(f\"Greatest Increase in Profits: {p_year} (${profit})\")\n",
    "print(f\"Greatest Decrease in Profits: {l_year} (${loss})\")    "
   ]
  },
  {
   "cell_type": "code",
   "execution_count": 6,
   "metadata": {},
   "outputs": [],
   "source": [
    "# @TODO: Open the output path as a file object\n",
    "with open(output_path,'w') as file:\n",
    "    # @TODO: Write number of months, total, average, greatest profit and loss to report file\n",
    "    file.write(\"Financial Analysis\\n\")\n",
    "    file.write(f\"{underline}\\n\")\n",
    "    file.write(f\"Total Months: {month_count}\\n\")\n",
    "    file.write(f\"Total: ${total}\\n\")\n",
    "    file.write(f\"Average Change: ${average}\\n\")\n",
    "    file.write(f\"Greatest Increase in Profits: {p_year} ($ {profit})\\n\")\n",
    "    file.write(f\"Greatest Decrease in Profits: {l_year} ($ {loss})\\n\")  "
   ]
  },
  {
   "cell_type": "code",
   "execution_count": null,
   "metadata": {},
   "outputs": [],
   "source": []
  }
 ],
 "metadata": {
  "kernelspec": {
   "display_name": "Python 3",
   "language": "python",
   "name": "python3"
  },
  "language_info": {
   "codemirror_mode": {
    "name": "ipython",
    "version": 3
   },
   "file_extension": ".py",
   "mimetype": "text/x-python",
   "name": "python",
   "nbconvert_exporter": "python",
   "pygments_lexer": "ipython3",
   "version": "3.7.6"
  }
 },
 "nbformat": 4,
 "nbformat_minor": 4
}
